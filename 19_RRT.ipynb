{
 "cells": [
  {
   "cell_type": "markdown",
   "metadata": {},
   "source": [
    "# Rapidly-Exploring Random Tree (RRT)\n",
    "\n",
    "Your task is to generate an RRT based on the following pseudocode:\n",
    "\n",
    "```\n",
    "def generate_RRT(x_init, num_vertices, dt):\n",
    "    rrt = RRT(x_init)\n",
    "    for k in range(num_vertices):\n",
    "        x_rand = sample_state()\n",
    "        x_near = nearest_neighbor(x_rand, rrt)\n",
    "        u = select_input(x_rand, x_near)\n",
    "        x_new = new_state(x_near, u, dt)\n",
    "        # directed edge\n",
    "        rrt.add_edge(x_near, x_new, u)\n",
    "    return rrt\n",
    "```\n",
    "    \n",
    "The `RRT` class has already been implemented. Your task is to complete the implementation of the following functions:\n",
    "\n",
    "* `sample_state`\n",
    "* `nearest_neighbor`\n",
    "* `select_input`\n",
    "* `new_state`\n"
   ]
  },
  {
   "cell_type": "code",
   "execution_count": 1,
   "metadata": {},
   "outputs": [],
   "source": [
    "import numpy as np \n",
    "import matplotlib.pyplot as plt\n",
    "from sklearn.neighbors import KDTree\n",
    "import networkx as nx\n",
    "\n",
    "%matplotlib inline "
   ]
  },
  {
   "cell_type": "code",
   "execution_count": 2,
   "metadata": {},
   "outputs": [],
   "source": [
    "plt.rcParams['figure.figsize'] = 12, 12"
   ]
  },
  {
   "cell_type": "code",
   "execution_count": 3,
   "metadata": {},
   "outputs": [],
   "source": [
    "class RRT:\n",
    "    def __init__(self, x_init):\n",
    "        # A tree is a special case of a graph with\n",
    "        # directed edges and only one path to any vertex.\n",
    "        self.tree = nx.DiGraph()\n",
    "        self.tree.add_node(x_init)\n",
    "                \n",
    "    def add_vertex(self, x_new):\n",
    "        self.tree.add_node(tuple(x_init))\n",
    "    \n",
    "    def add_edge(self, x_near, x_new, u):\n",
    "        self.tree.add_edge(tuple(x_near), tuple(x_new), orientation=u)\n",
    "        \n",
    "    @property\n",
    "    def vertices(self):\n",
    "        return self.tree.nodes()\n",
    "    \n",
    "    @property\n",
    "    def edges(self):\n",
    "        return self.tree.edges()\n",
    "                                                  "
   ]
  },
  {
   "cell_type": "code",
   "execution_count": 4,
   "metadata": {},
   "outputs": [],
   "source": [
    "def create_grid():\n",
    "    grid = np.zeros((100, 100))\n",
    "    # build some obstacles\n",
    "    grid[10:20, 10:20] = 1\n",
    "    grid[63:80, 10:20] = 1\n",
    "    grid[43:60, 30:40] = 1\n",
    "    grid[71:86, 38:50] = 1\n",
    "    grid[10:20, 55:67] = 1\n",
    "    grid[80:90, 80:90] = 1\n",
    "    grid[75:90, 80:90] = 1\n",
    "    grid[30:40, 60:82] = 1\n",
    "    return grid"
   ]
  },
  {
   "cell_type": "code",
   "execution_count": 5,
   "metadata": {},
   "outputs": [],
   "source": [
    "# environment encoded as a grid\n",
    "grid = create_grid()"
   ]
  },
  {
   "cell_type": "code",
   "execution_count": 6,
   "metadata": {},
   "outputs": [
    {
     "data": {
      "text/plain": [
       "100"
      ]
     },
     "execution_count": 6,
     "metadata": {},
     "output_type": "execute_result"
    }
   ],
   "source": [
    "grid.shape[1]"
   ]
  },
  {
   "cell_type": "markdown",
   "metadata": {},
   "source": [
    "Let's take a look at the example environment we'll be using."
   ]
  },
  {
   "cell_type": "code",
   "execution_count": 7,
   "metadata": {},
   "outputs": [
    {
     "data": {
      "text/plain": [
       "<matplotlib.image.AxesImage at 0x2704f53b808>"
      ]
     },
     "execution_count": 7,
     "metadata": {},
     "output_type": "execute_result"
    },
    {
     "data": {
      "image/png": "[encoded data removed]",
      "text/plain": [
       "<Figure size 864x864 with 1 Axes>"
      ]
     },
     "metadata": {
      "needs_background": "light"
     },
     "output_type": "display_data"
    }
   ],
   "source": [
    "plt.imshow(grid, cmap='Greys', origin='upper')"
   ]
  },
  {
   "cell_type": "markdown",
   "metadata": {},
   "source": [
    "Next you'll implement the functions necessary to generate an RRT. Feel free to change the function signatures however you please, just remember to update `generate_RRT` accordingly."
   ]
  },
  {
   "cell_type": "markdown",
   "metadata": {},
   "source": [
    "### Sampling States\n",
    "\n",
    "The first part of generating an RRT is sampling states based on the environment. The sampled state must be in free space. "
   ]
  },
  {
   "cell_type": "code",
   "execution_count": 8,
   "metadata": {},
   "outputs": [],
   "source": [
    "def sample_state(grid):\n",
    "    # TODO: complete\n",
    "    x = np.random.uniform(0, grid.shape[0])\n",
    "    y = np.random.uniform(0, grid.shape[1])\n",
    "    return (x, y)"
   ]
  },
  {
   "cell_type": "code",
   "execution_count": 9,
   "metadata": {},
   "outputs": [
    {
     "data": {
      "text/plain": [
       "(25.303959174127378, 8.139999583784041)"
      ]
     },
     "execution_count": 9,
     "metadata": {},
     "output_type": "execute_result"
    }
   ],
   "source": [
    "(x, y) = sample_state(grid)\n",
    "x, y"
   ]
  },
  {
   "cell_type": "markdown",
   "metadata": {},
   "source": [
    "### Nearest Neighbors\n",
    "\n",
    "A critical part of the RRT procedure is finding the closest vertex to the sampled random point. This the most computationally intensive part so be mindful of that. Depending on the number of vertices a naive implementation will run into trouble quickly."
   ]
  },
  {
   "cell_type": "code",
   "execution_count": 10,
   "metadata": {},
   "outputs": [],
   "source": [
    "def nearest_neighbor(x_rand, rrt):\n",
    "     # TODO: complete\n",
    "    closest_dist = 100000\n",
    "    closest_vertex = None\n",
    "    x_rand = np.array(x_rand)\n",
    "    \n",
    "    for v in rrt.vertices:\n",
    "        d = np.linalg.norm(x_rand - np.array(v[:2]))\n",
    "        if d < closest_dist:\n",
    "            closest_dist = d\n",
    "            closest_vertex = v\n",
    "    return closest_vertex"
   ]
  },
  {
   "cell_type": "code",
   "execution_count": null,
   "metadata": {},
   "outputs": [],
   "source": []
  },
  {
   "cell_type": "markdown",
   "metadata": {},
   "source": [
    "### Selecting Inputs\n",
    "\n",
    "Select input which moves `x_near` closer to `x_rand`. This should return the angle or orientation of the vehicle."
   ]
  },
  {
   "cell_type": "code",
   "execution_count": 11,
   "metadata": {},
   "outputs": [],
   "source": [
    "def select_input(x_rand, x_near):\n",
    "     # TODO: complete\n",
    "    \n",
    "    return np.arctan2(x_rand[1] - x_near[1], x_rand[0] - x_near[0])"
   ]
  },
  {
   "cell_type": "markdown",
   "metadata": {},
   "source": [
    "### New State\n",
    "\n"
   ]
  },
  {
   "cell_type": "markdown",
   "metadata": {},
   "source": [
    "The new vertex `x_new` is calculated by travelling from the current vertex `x_near` with a orientation `u` for time `dt`."
   ]
  },
  {
   "cell_type": "code",
   "execution_count": 12,
   "metadata": {},
   "outputs": [],
   "source": [
    "def new_state(x_near, u, dt):\n",
    "    # TODO: complete\n",
    "    nx = x_near[0] + np.cos(u)*dt\n",
    "    ny = x_near[1] + np.sin(u)*dt\n",
    "    return [nx, ny]"
   ]
  },
  {
   "cell_type": "markdown",
   "metadata": {},
   "source": [
    "### Putting It All Together\n",
    "\n",
    "Awesome! Now we'll put everything together and generate an RRT."
   ]
  },
  {
   "cell_type": "code",
   "execution_count": 13,
   "metadata": {},
   "outputs": [],
   "source": [
    "def generate_RRT(grid, x_init, num_vertices, dt):\n",
    "    \n",
    "    rrt = RRT(x_init)\n",
    "    test = []\n",
    "    for _ in range(num_vertices):\n",
    "        \n",
    "        x_rand = sample_state(grid)\n",
    "        # sample states until a free state is found\n",
    "        while grid[int(x_rand[0]), int(x_rand[1])] == 1:\n",
    "            x_rand = sample_state(grid)\n",
    "        \n",
    "        \n",
    "    \n",
    "        x_near = nearest_neighbor(x_rand, rrt)\n",
    "        u = select_input(x_rand, x_near)\n",
    "        x_new = new_state(x_near, u, dt)\n",
    "            \n",
    "        if grid[int(x_new[0]), int(x_new[1])] == 0:\n",
    "            # the orientation `u` will be added as metadata to\n",
    "            # the edge\n",
    "            rrt.add_edge(x_near, x_new, u)\n",
    "        \n",
    "        test.append(x_rand)\n",
    "    \n",
    "    test = np.array(test)\n",
    "    return rrt, x_rand, test"
   ]
  },
  {
   "cell_type": "markdown",
   "metadata": {},
   "source": [
    "Feel free to change any of the values below."
   ]
  },
  {
   "cell_type": "code",
   "execution_count": 14,
   "metadata": {},
   "outputs": [],
   "source": [
    "num_vertices = 300\n",
    "dt = 1\n",
    "x_init = (5, 5)\n",
    "\n",
    "rrt, x_rand, test = generate_RRT(grid, x_init, num_vertices, dt)"
   ]
  },
  {
   "cell_type": "code",
   "execution_count": 15,
   "metadata": {
    "scrolled": true
   },
   "outputs": [
    {
     "name": "stdout",
     "output_type": "stream",
     "text": [
      "[[67.47690454 71.89113573]\n",
      " [ 8.68366625 39.79098771]\n",
      " [ 4.13179269 93.0307254 ]\n",
      " [70.02296276 41.03690516]\n",
      " [85.83442069 15.40604307]\n",
      " [99.94277613 65.87544345]\n",
      " [86.63094082 50.07107319]\n",
      " [76.73687249 37.3384995 ]\n",
      " [73.5040025  99.76776004]\n",
      " [33.11584677 23.34163631]\n",
      " [54.56984471 64.64685192]\n",
      " [70.86974128 60.65736817]\n",
      " [69.69253875 51.88445439]\n",
      " [ 1.81360744 24.60645556]\n",
      " [81.18270778 33.35976475]\n",
      " [22.37714773 63.7748997 ]\n",
      " [47.01277983  4.45709661]\n",
      " [58.58094472  5.42304933]\n",
      " [14.60073716  8.21203838]\n",
      " [61.39821423  9.11532517]\n",
      " [58.52386383 21.7188532 ]\n",
      " [53.62587032 26.75260658]\n",
      " [71.78578371 34.698002  ]\n",
      " [43.20436798 76.44494491]\n",
      " [67.66091233 27.62465609]\n",
      " [92.11904556  4.70683254]\n",
      " [48.67071757 62.73081051]\n",
      " [50.07158834 86.77301072]\n",
      " [40.29091954 13.27213437]\n",
      " [98.83174811  3.88515442]\n",
      " [30.47537275 82.25655598]\n",
      " [23.95616783 36.74535972]\n",
      " [71.71689527 99.58834829]\n",
      " [90.53464036 32.26595251]\n",
      " [86.68686229 79.68946185]\n",
      " [12.15263377 24.41256699]\n",
      " [94.51960379 20.96057944]\n",
      " [37.55428889 21.65703357]\n",
      " [99.50753172 38.65247824]\n",
      " [41.42774255  5.42012738]\n",
      " [76.04614738 95.97067842]\n",
      " [50.55208476 28.00377387]\n",
      " [38.23489518  2.71974775]\n",
      " [ 0.12275845 33.40371304]\n",
      " [87.0155938  35.56892264]\n",
      " [ 6.58355072 44.02393612]\n",
      " [61.22815145 30.03623065]\n",
      " [93.77366988 92.02471223]\n",
      " [99.60138265 85.15457121]\n",
      " [18.99263621 43.77004991]\n",
      " [73.50310182  2.38906478]\n",
      " [39.48910715 54.1320173 ]\n",
      " [99.57901508  8.83725136]\n",
      " [88.22422036  2.75717945]\n",
      " [30.28794712 37.56360948]\n",
      " [84.01258746 24.72717663]\n",
      " [ 3.93232096 68.41088196]\n",
      " [25.22872884 36.02288124]\n",
      " [97.94923774 22.59021626]\n",
      " [62.01811297 44.70599629]\n",
      " [43.60971084 11.76851871]\n",
      " [98.62003145 41.57789356]\n",
      " [55.6377191  18.16509097]\n",
      " [18.19991712 41.98854092]\n",
      " [ 8.13975495 57.16167675]\n",
      " [15.55272808  8.36374802]\n",
      " [49.18729391 79.53702183]\n",
      " [73.98498254  6.29551829]\n",
      " [11.39891355 90.78475553]\n",
      " [65.40124907 79.30330286]\n",
      " [10.48112298 72.22674422]\n",
      " [25.84763297 93.32763599]\n",
      " [28.85539852 36.04924065]\n",
      " [62.4752787  84.1480083 ]\n",
      " [56.43157213 59.61854465]\n",
      " [16.46635895 44.91864265]\n",
      " [30.06972887 98.9002572 ]\n",
      " [53.75990603 57.41790096]\n",
      " [82.43174397 37.73556138]\n",
      " [53.0923437  17.25189873]\n",
      " [ 3.44777812 59.39950154]\n",
      " [33.52473712 22.83371611]\n",
      " [88.03092097 91.69955938]\n",
      " [42.62961241 29.86174904]\n",
      " [65.25125842 42.25101985]\n",
      " [91.01247242 60.10823223]\n",
      " [80.14760222 99.01443075]\n",
      " [10.11017953 41.05914615]\n",
      " [69.23267624 70.00812099]\n",
      " [77.9648956  20.0352068 ]\n",
      " [71.01112326 59.02015443]\n",
      " [28.51051974 25.5840341 ]\n",
      " [44.50110372 79.96384799]\n",
      " [29.27620978 74.3269853 ]\n",
      " [ 4.87680269 27.26713809]\n",
      " [66.75964011  8.8675841 ]\n",
      " [48.81324501 43.57557163]\n",
      " [48.95092342 29.0458403 ]\n",
      " [10.66786663 39.604447  ]\n",
      " [45.91792424  6.86681044]\n",
      " [89.43362114 27.80077736]\n",
      " [93.92582703 20.93938559]\n",
      " [39.20912513  1.09212459]\n",
      " [17.86702513 78.53935608]\n",
      " [86.02149311 41.77968455]\n",
      " [47.15383016 49.07637053]\n",
      " [65.44549399 66.34832965]\n",
      " [77.83058904 92.52908518]\n",
      " [36.82269628 43.19659749]\n",
      " [29.52630939 10.74680015]\n",
      " [67.90261276 47.33623319]\n",
      " [63.50294411 31.16983192]\n",
      " [30.80711885  4.01272975]\n",
      " [85.91949643 31.40893948]\n",
      " [77.76033475 35.47544763]\n",
      " [47.72820628 53.2130362 ]\n",
      " [16.12303713 98.84900676]\n",
      " [82.8811522  32.72863027]\n",
      " [85.32153625 57.64830632]\n",
      " [91.78208448 39.32394826]\n",
      " [57.61490846 49.28379437]\n",
      " [42.78862832 43.46471317]\n",
      " [ 6.82151702 84.11573098]\n",
      " [ 3.88403778 85.74102568]\n",
      " [36.65581417 59.28981777]\n",
      " [82.73599834 25.47582045]\n",
      " [56.79121322  1.82508532]\n",
      " [28.67861624 53.90320063]\n",
      " [42.52719617 45.09546151]\n",
      " [51.64145967 59.88814035]\n",
      " [12.50457152 47.75207487]\n",
      " [18.54816049 41.71152204]\n",
      " [83.90656563  0.59741184]\n",
      " [ 9.98128539 36.20314556]\n",
      " [27.66181304 91.2535323 ]\n",
      " [40.51762366 53.3511021 ]\n",
      " [32.13901222 84.97459661]\n",
      " [66.984393   44.43498549]\n",
      " [67.51077726  1.74983499]\n",
      " [ 2.73218304 17.22735239]\n",
      " [26.6227449  67.1303557 ]\n",
      " [97.42684126 55.19810476]\n",
      " [98.25475684 61.11912851]\n",
      " [28.56826444 39.17579178]\n",
      " [68.0639585   2.14114792]\n",
      " [20.48648447 58.08575547]\n",
      " [67.77739343 58.23536566]\n",
      " [95.52924358 47.03841857]\n",
      " [ 0.11927085 38.00678678]\n",
      " [32.55822805 85.80094065]\n",
      " [56.24318563 15.75902969]\n",
      " [90.05298308 50.72029596]\n",
      " [22.93642323 27.17647844]\n",
      " [55.1106719  91.20682611]\n",
      " [17.05392854 82.17757612]\n",
      " [ 6.40032366 92.79414338]\n",
      " [ 9.19212906 20.25355101]\n",
      " [65.80424622 92.64953549]\n",
      " [19.72601209 97.64576389]\n",
      " [45.17490879 10.8588242 ]\n",
      " [11.9342858  78.71898894]\n",
      " [83.767514   14.67673015]\n",
      " [ 7.03193602 12.0990029 ]\n",
      " [55.05872099  7.47632747]\n",
      " [39.682323   54.10610834]\n",
      " [17.04520907 29.60666868]\n",
      " [ 0.70093836 67.58762543]\n",
      " [72.04743894 69.07167702]\n",
      " [62.6820351  31.66948071]\n",
      " [ 9.38631718 66.49270498]\n",
      " [84.76510861 66.06301325]\n",
      " [62.94983929 67.28360863]\n",
      " [ 7.52430273 79.56265344]\n",
      " [96.93538441 57.00202331]\n",
      " [80.9741553  60.38576671]\n",
      " [15.94394904 82.9719344 ]\n",
      " [85.67517789 36.59371301]\n",
      " [27.52682736 21.11288794]\n",
      " [95.52055595 88.53507889]\n",
      " [23.11921149 17.28353889]\n",
      " [34.46163638 42.6659325 ]\n",
      " [81.22259862 73.61207323]\n",
      " [84.99200275 30.13675873]\n",
      " [ 6.2854258  17.13592675]\n",
      " [81.7083029  31.56413245]\n",
      " [81.09758926 32.36245505]\n",
      " [92.87696054 83.72862186]\n",
      " [82.8921387  75.49197356]\n",
      " [70.32158098 45.23030042]\n",
      " [32.47196443 54.15636844]\n",
      " [37.29515044 54.45559355]\n",
      " [35.79003974 98.67546426]\n",
      " [83.67728082  4.8061213 ]\n",
      " [58.92608917 64.59193596]\n",
      " [67.28248461 32.56289259]\n",
      " [13.52496921 46.59287466]\n",
      " [43.45936861  3.2024954 ]\n",
      " [24.87693741 82.34712878]\n",
      " [70.29670098 49.66254468]\n",
      " [31.86636112 37.22467748]\n",
      " [98.15200398 61.73898045]\n",
      " [85.48524523 33.25457463]\n",
      " [70.3266562  65.63167523]\n",
      " [58.88672604 46.35592993]\n",
      " [70.59122727 98.11789596]\n",
      " [77.73967716 22.2437555 ]\n",
      " [94.06533046 93.5999339 ]\n",
      " [ 2.77622798 94.33174275]\n",
      " [ 8.06693668 62.81072186]\n",
      " [50.4819626  73.88941287]\n",
      " [20.83068764 32.43726772]\n",
      " [72.13877791 68.43931267]\n",
      " [ 2.84793335 68.09273222]\n",
      " [84.98345992 68.99842153]\n",
      " [29.94268601 22.74601518]\n",
      " [38.66552316  5.44807543]\n",
      " [58.83875771 29.97818455]\n",
      " [82.91000015 32.72938036]\n",
      " [97.28150627 69.38063978]\n",
      " [68.21730955 32.19077248]\n",
      " [88.34699917  0.42958607]\n",
      " [27.62244059  4.32516071]\n",
      " [23.47630118 25.69199325]\n",
      " [95.12644048 34.10542352]\n",
      " [85.67070502 18.21571703]\n",
      " [14.76222046 89.73219386]\n",
      " [16.00292835 72.12454401]\n",
      " [92.94609063 24.99688452]\n",
      " [54.56458237 13.20424908]\n",
      " [31.07529711 88.56788746]\n",
      " [25.52794276 98.34217764]\n",
      " [ 0.43505056 62.4921977 ]\n",
      " [99.53664007 66.12197676]\n",
      " [64.33961329 63.48582592]\n",
      " [63.61747293 20.34158073]\n",
      " [83.34249338 18.31933935]\n",
      " [42.2767114  12.07697779]\n",
      " [83.31758347 95.30549433]\n",
      " [26.23931994 14.87837934]\n",
      " [27.70188787  1.65770621]\n",
      " [66.29129653  3.89076893]\n",
      " [35.72341558 31.42626702]\n",
      " [10.83658938 76.63242733]\n",
      " [37.07528272 11.70224326]\n",
      " [70.72535955 36.9914684 ]\n",
      " [96.40348848 94.82584711]\n",
      " [87.88455971 54.45225019]\n",
      " [94.06938808 66.94033522]\n",
      " [22.75958479 73.61807418]\n",
      " [97.7128511  38.74054299]\n",
      " [47.75147473 89.15839462]\n",
      " [12.83566315 30.72391202]\n",
      " [64.58438289 72.72738596]\n",
      " [15.20981018 35.4718397 ]\n",
      " [27.08480453 69.22799958]\n",
      " [62.28433437 67.74177217]\n",
      " [32.16274047 19.25137124]\n",
      " [65.78472153 62.68731589]\n",
      " [16.39638309 53.24846017]\n",
      " [71.25173493 96.77643327]\n",
      " [ 3.99866902 64.2831283 ]\n",
      " [85.25661365 92.2718707 ]\n",
      " [84.95538282 70.71371967]\n",
      " [25.41970401 32.42488644]\n",
      " [48.78145356 76.9299893 ]\n",
      " [97.6137773  17.56027198]\n",
      " [32.83975231 43.12725412]\n",
      " [52.99142675 46.47708548]\n",
      " [68.39324371 32.32891436]\n",
      " [96.55856392 12.62012255]\n",
      " [62.77808472 85.61631684]\n",
      " [87.36685614 63.26564936]\n",
      " [52.37352419 78.50357892]\n",
      " [51.0997034  92.40447815]\n",
      " [64.60141195 39.64914235]\n",
      " [82.52497322 67.46357343]\n",
      " [31.48401927 33.7143335 ]\n",
      " [57.616216   16.2019078 ]\n",
      " [43.73148369 59.42908181]\n",
      " [ 8.7253706  66.83126656]\n",
      " [61.39970604 31.19967916]\n",
      " [67.39933703 47.1496327 ]\n",
      " [91.38169489 61.02918927]\n",
      " [34.63138614 34.12725077]\n",
      " [98.19151605 96.02686612]\n",
      " [28.12385175 57.19565071]\n",
      " [51.75811548 79.75752189]\n",
      " [ 8.76223576 73.95084133]\n",
      " [85.88814598 79.2580038 ]\n",
      " [76.56399021 69.09615092]\n",
      " [34.99768308 25.75036678]\n",
      " [ 7.94259592 86.68858875]\n",
      " [32.20543403  0.31401913]\n",
      " [22.22235569 22.33426026]\n",
      " [63.14029361 44.29123016]\n",
      " [33.60420053 16.80682623]\n",
      " [28.59403213 66.91581634]\n",
      " [ 3.48577446 44.2273354 ]\n",
      " [97.79953359  7.23418784]\n",
      " [ 6.91256874  0.65442757]]\n"
     ]
    }
   ],
   "source": [
    "for nn in rrt.vertices:\n",
    "    a = np.array(nn[:2])\n",
    "    \n",
    "    b = []\n",
    "    \n",
    "    b.append(a)\n",
    "#print(b)\n",
    "print(test)"
   ]
  },
  {
   "cell_type": "markdown",
   "metadata": {},
   "source": [
    "Now let's plot the generated RRT."
   ]
  },
  {
   "cell_type": "code",
   "execution_count": 16,
   "metadata": {
    "scrolled": false
   },
   "outputs": [
    {
     "data": {
      "image/png": "[encoded data removed]",
      "text/plain": [
       "<Figure size 864x864 with 1 Axes>"
      ]
     },
     "metadata": {
      "needs_background": "light"
     },
     "output_type": "display_data"
    }
   ],
   "source": [
    "plt.imshow(grid, cmap='Greys', origin='lower')\n",
    "plt.plot(x_init[1], x_init[0], 'ro')\n",
    "\n",
    "for (v1, v2) in rrt.edges:\n",
    "    plt.plot([v1[1], v2[1]], [v1[0], v2[0]], 'y-')\n",
    "\n",
    "for n1 in test:\n",
    "    plt.scatter(n1[1], n1[0], c='blue')\n",
    "    \n",
    "plt.show()"
   ]
  },
  {
   "cell_type": "markdown",
   "metadata": {},
   "source": [
    "[solution](/notebooks/RRT-Solution.ipynb)"
   ]
  },
  {
   "cell_type": "code",
   "execution_count": null,
   "metadata": {},
   "outputs": [],
   "source": []
  }
 ],
 "metadata": {
  "kernelspec": {
   "display_name": "Python 3",
   "language": "python",
   "name": "python3"
  },
  "language_info": {
   "codemirror_mode": {
    "name": "ipython",
    "version": 3
   },
   "file_extension": ".py",
   "mimetype": "text/x-python",
   "name": "python",
   "nbconvert_exporter": "python",
   "pygments_lexer": "ipython3",
   "version": "3.7.6"
  }
 },
 "nbformat": 4,
 "nbformat_minor": 2
}
