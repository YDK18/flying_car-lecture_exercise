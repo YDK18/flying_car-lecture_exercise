{
 "cells": [
  {
   "cell_type": "markdown",
   "metadata": {},
   "source": [
    "# Random Sampling\n",
    "\n",
    "In this notebook you'll work with the obstacle's polygon representation itself.\n",
    "\n",
    "Your tasks will be:\n",
    "\n",
    "1. Create polygons.\n",
    "2. Sample random 3D points.\n",
    "3. Remove points contained by an obstacle polygon.\n",
    "\n",
    "Recall, a point $(x, y, z)$ collides with a polygon if the $(x, y)$ coordinates are contained by the polygon and the $z$ coordinate (height) is less than the height of the polygon."
   ]
  },
  {
   "cell_type": "code",
   "execution_count": 1,
   "metadata": {},
   "outputs": [],
   "source": [
    "import time\n",
    "import numpy as np\n",
    "import matplotlib.pyplot as plt\n",
    "from mpl_toolkits.mplot3d import Axes3D\n",
    "from shapely.geometry import Polygon, Point\n",
    "%matplotlib inline \n",
    "\n"
   ]
  },
  {
   "cell_type": "code",
   "execution_count": 2,
   "metadata": {},
   "outputs": [],
   "source": [
    "plt.rcParams['figure.figsize'] = 12, 12"
   ]
  },
  {
   "cell_type": "code",
   "execution_count": 3,
   "metadata": {},
   "outputs": [
    {
     "name": "stdout",
     "output_type": "stream",
     "text": [
      "[[-310.2389   -439.2315     85.5         5.          5.         85.5     ]\n",
      " [-300.2389   -439.2315     85.5         5.          5.         85.5     ]\n",
      " [-290.2389   -439.2315     85.5         5.          5.         85.5     ]\n",
      " ...\n",
      " [ 257.8061    425.1645      1.75852     1.292725    1.292725    1.944791]\n",
      " [ 293.9967    368.3391      3.557666    1.129456    1.129456    3.667319]\n",
      " [ 281.5162    354.4156      4.999351    1.053772    1.053772    4.950246]]\n"
     ]
    }
   ],
   "source": [
    "# This is the same obstacle data from the previous lesson.\n",
    "filename = 'colliders.csv'\n",
    "data = np.loadtxt(filename, delimiter=',', dtype='Float64', skiprows=2)\n",
    "print(data)"
   ]
  },
  {
   "cell_type": "markdown",
   "metadata": {},
   "source": [
    "## Create Polygons"
   ]
  },
  {
   "cell_type": "code",
   "execution_count": 4,
   "metadata": {},
   "outputs": [],
   "source": [
    "def extract_polygons(data):\n",
    "\n",
    "    polygons = []\n",
    "    for i in range(data.shape[0]):\n",
    "        north, east, alt, d_north, d_east, d_alt = data[i, :]\n",
    "        \n",
    "        obstacle = [north - d_north, north + d_north, east - d_east, east + d_east]\n",
    "        \n",
    "        # TODO: Extract the 4 corners of the obstacle\n",
    "        # \n",
    "        # NOTE: The order of the points matters since\n",
    "        # `shapely` draws the sequentially from point to point.\n",
    "        #\n",
    "        # If the area of the polygon is 0 you've likely got a weird\n",
    "        # order.\n",
    "        corners = [(obstacle[0], obstacle[2]), (obstacle[0], obstacle[3]), (obstacle[1], obstacle[3]), (obstacle[1], obstacle[2])]\n",
    "        \n",
    "        # TODO: Compute the height of the polygon\n",
    "        height = alt + d_alt\n",
    "\n",
    "        # TODO: Once you've defined corners, define polygons\n",
    "        p = Polygon(corners)\n",
    "        polygons.append((p, height))\n",
    "\n",
    "    return polygons, corners\n"
   ]
  },
  {
   "cell_type": "code",
   "execution_count": 5,
   "metadata": {},
   "outputs": [
    {
     "data": {
      "text/plain": [
       "[(280.46242800000005, 353.361828),\n",
       " (280.46242800000005, 355.46937199999996),\n",
       " (282.569972, 355.46937199999996),\n",
       " (282.569972, 353.361828)]"
      ]
     },
     "execution_count": 5,
     "metadata": {},
     "output_type": "execute_result"
    }
   ],
   "source": [
    "polygons, corners = extract_polygons(data)\n",
    "corners"
   ]
  },
  {
   "cell_type": "markdown",
   "metadata": {},
   "source": [
    "# Sampling 3D Points\n",
    "\n",
    "Now that we have the extracted the polygons, we need to sample random 3D points. Currently we don't know suitable ranges for x, y, and z. Let's figure out the max and min values for each dimension."
   ]
  },
  {
   "cell_type": "code",
   "execution_count": 6,
   "metadata": {},
   "outputs": [
    {
     "name": "stdout",
     "output_type": "stream",
     "text": [
      "X\n",
      "min = -315.2389, max = 604.7611\n",
      "\n",
      "Y\n",
      "min = -444.2315, max = 475.7685\n",
      "\n",
      "Z\n",
      "min = 0, max = 10\n"
     ]
    }
   ],
   "source": [
    "xmin = np.min(data[:, 0] - data[:, 3])\n",
    "xmax = np.max(data[:, 0] + data[:, 3])\n",
    "\n",
    "ymin = np.min(data[:, 1] - data[:, 4])\n",
    "ymax = np.max(data[:, 1] + data[:, 4])\n",
    "\n",
    "zmin = 0\n",
    "# Limit the z axis for the visualization\n",
    "zmax = 10\n",
    "\n",
    "print(\"X\")\n",
    "print(\"min = {0}, max = {1}\\n\".format(xmin, xmax))\n",
    "\n",
    "print(\"Y\")\n",
    "print(\"min = {0}, max = {1}\\n\".format(ymin, ymax))\n",
    "\n",
    "print(\"Z\")\n",
    "print(\"min = {0}, max = {1}\".format(zmin, zmax))"
   ]
  },
  {
   "cell_type": "markdown",
   "metadata": {},
   "source": [
    "Next, it's time to sample points. All that's left is picking the distribution and number of samples. The uniform distribution makes sense in this situation since we we'd like to encourage searching the whole space."
   ]
  },
  {
   "cell_type": "code",
   "execution_count": 7,
   "metadata": {},
   "outputs": [],
   "source": [
    "num_samples = 100\n",
    "\n",
    "xvals = np.random.uniform(xmin, xmax, num_samples)\n",
    "yvals = np.random.uniform(ymin, ymax, num_samples)\n",
    "zvals = np.random.uniform(zmin, zmax, num_samples)\n",
    "\n",
    "samples = list(zip(xvals, yvals, zvals))"
   ]
  },
  {
   "cell_type": "code",
   "execution_count": 8,
   "metadata": {},
   "outputs": [
    {
     "data": {
      "text/plain": [
       "[(526.322569283461, -415.7788224795833, 9.048364488417896),\n",
       " (-84.76436118973382, -123.60307676075263, 1.7395009232319036),\n",
       " (466.5996003713421, 72.45741053364964, 4.7209922876595805),\n",
       " (377.0668503967566, -247.89647087622933, 2.6303243369868046),\n",
       " (-300.18433509181494, 52.778814797373116, 7.884895603808846),\n",
       " (14.003928463497914, 385.6978564636405, 5.194506170602569),\n",
       " (-53.73151507083037, -327.3963090831818, 3.5093191586967656),\n",
       " (-37.27992155181454, 59.440863728078796, 1.2849660841638133),\n",
       " (293.89562458989457, 236.6488923660521, 8.254402427362578),\n",
       " (301.82831365012413, -321.31477628393714, 7.9478884167120745)]"
      ]
     },
     "execution_count": 8,
     "metadata": {},
     "output_type": "execute_result"
    }
   ],
   "source": [
    "samples[:10]"
   ]
  },
  {
   "cell_type": "markdown",
   "metadata": {},
   "source": [
    "## Removing Points Colliding With Obstacles\n",
    "\n",
    "Prior to remove a point we must determine whether it collides with any obstacle. Complete the `collides` function below. It should return `True` if the point collides with *any* obstacle and `False` if no collision is detected."
   ]
  },
  {
   "cell_type": "code",
   "execution_count": 9,
   "metadata": {},
   "outputs": [],
   "source": [
    "def collides(polygons, point):   \n",
    "    # TODO: Determine whether the point collides\n",
    "    # with any obstacles.    \n",
    "    for (p, height) in polygons:\n",
    "        if p.contains(Point(point)) and height >= point[2]:\n",
    "            return True\n",
    "    return False"
   ]
  },
  {
   "cell_type": "markdown",
   "metadata": {},
   "source": [
    "Use `collides` for all points in the sample."
   ]
  },
  {
   "cell_type": "code",
   "execution_count": 10,
   "metadata": {},
   "outputs": [
    {
     "name": "stdout",
     "output_type": "stream",
     "text": [
      "Time taken {0} seconds ... 6.313116073608398\n"
     ]
    }
   ],
   "source": [
    "t0 = time.time()\n",
    "to_keep = []\n",
    "for point in samples:\n",
    "    if not collides(polygons, point):\n",
    "        to_keep.append(point)\n",
    "time_taken = time.time() - t0\n",
    "print(\"Time taken {0} seconds ...\", time_taken)"
   ]
  },
  {
   "cell_type": "code",
   "execution_count": 11,
   "metadata": {
    "scrolled": true
   },
   "outputs": [
    {
     "name": "stdout",
     "output_type": "stream",
     "text": [
      "58\n"
     ]
    }
   ],
   "source": [
    "print(len(to_keep))"
   ]
  },
  {
   "cell_type": "code",
   "execution_count": 12,
   "metadata": {
    "scrolled": true
   },
   "outputs": [
    {
     "data": {
      "text/plain": [
       "[(526.322569283461, -415.7788224795833, 9.048364488417896),\n",
       " (-84.76436118973382, -123.60307676075263, 1.7395009232319036),\n",
       " (377.0668503967566, -247.89647087622933, 2.6303243369868046),\n",
       " (-300.18433509181494, 52.778814797373116, 7.884895603808846),\n",
       " (14.003928463497914, 385.6978564636405, 5.194506170602569),\n",
       " (-53.73151507083037, -327.3963090831818, 3.5093191586967656),\n",
       " (301.82831365012413, -321.31477628393714, 7.9478884167120745),\n",
       " (131.8989118757819, -10.414163481772675, 7.409487368961566),\n",
       " (126.18102633340766, -65.25780290104638, 9.421944648878283),\n",
       " (553.3789768268405, -92.56977313295602, 7.080436995363591),\n",
       " (-283.4187898804583, -309.41100683494665, 9.517818705623986),\n",
       " (93.07185336025356, -102.69285191173441, 3.6517196125779083),\n",
       " (264.3958444829295, -141.93622688424375, 6.266951457274855),\n",
       " (283.62073406921576, 450.7563590843382, 3.5719021257953476),\n",
       " (23.69024554712132, 146.83837145040104, 9.120202791459961),\n",
       " (-35.617443117786195, 409.25034437447005, 8.720140829841059),\n",
       " (448.5467464474886, 137.68117477959618, 3.12070509063345),\n",
       " (208.78304261084298, -374.82583089841546, 1.9567936709496425),\n",
       " (-286.81289202459794, 292.32957539930396, 8.116512141069249),\n",
       " (370.44806328768897, 135.57329928155275, 7.517620512708735),\n",
       " (-204.28030101143642, 408.6559276880811, 8.116621688061054),\n",
       " (-126.66608492106926, -173.20386244044755, 7.822272532186034),\n",
       " (-301.4010170110399, 251.44902518212496, 6.515578912615357),\n",
       " (-176.1881435257259, 364.3929790319264, 5.9855140282787005),\n",
       " (481.9671276109463, -16.19840491267928, 7.392294779243175),\n",
       " (185.22290426092212, 109.49325348509285, 6.503681597658332),\n",
       " (341.1949572895065, 33.76882162983111, 6.702850556516036),\n",
       " (242.7061309611418, 411.43686196978865, 3.8063741685302235),\n",
       " (-310.3019190659603, 72.19771338478552, 9.903083805720971),\n",
       " (583.2281764056447, 5.86396776959009, 5.403415439672909),\n",
       " (-233.89365942171474, 38.99567696812608, 6.00680024568506),\n",
       " (-189.49201318536302, -243.06331542139543, 1.8339929340593053),\n",
       " (-19.199288576648314, -343.9638368596202, 0.6522887430140334),\n",
       " (-200.0544766338214, -160.9414030666199, 5.971015880689746),\n",
       " (460.9333463071278, 60.967488369652926, 0.7359502359973114),\n",
       " (28.902398734617407, 224.12009634365972, 7.979953995771578),\n",
       " (-221.60500818225074, -258.6366088631556, 4.310635137044915),\n",
       " (222.69600172775137, -19.819908469613836, 7.867996437118887),\n",
       " (121.69009536587339, -283.38868186762727, 5.850543353100404),\n",
       " (487.6102018116064, -17.565521162397545, 1.771746835909569),\n",
       " (-174.73075453331268, 317.9736619671239, 8.240931970878663),\n",
       " (111.6127937413442, 440.27510430579434, 2.2986663781921433),\n",
       " (581.2723406604496, -166.77937249087552, 4.46836250232883),\n",
       " (-128.3112425593399, 120.53024484869263, 9.755028035999395),\n",
       " (-30.956086868102602, -244.64410479763637, 4.060061131434197),\n",
       " (-145.54587960704765, 388.1795794820524, 7.556775765889587),\n",
       " (-235.19972751269893, -191.20165558623358, 1.6147813613612105),\n",
       " (320.37742023931054, 60.85039457369248, 3.727001759285283),\n",
       " (131.62518152440776, 273.2110915997042, 4.358658122149015),\n",
       " (125.8741566101001, -108.1070545492824, 8.895595466297674),\n",
       " (-262.7735279003501, 63.97695436918423, 7.639865286214212),\n",
       " (389.4988259104495, 403.31879437472094, 5.394802478477045),\n",
       " (465.1237880840694, 329.26189734109994, 3.910191925379225),\n",
       " (128.95743455521585, -130.99960381767227, 4.917416915662418),\n",
       " (-270.05138611942215, 273.0341965401899, 1.355194478230346),\n",
       " (-132.2485953544657, -376.1419262964113, 4.835414415200944),\n",
       " (260.57405545031605, -144.94974693159224, 9.331813346303615),\n",
       " (488.6316030259515, 8.870546253385783, 8.936098748990881)]"
      ]
     },
     "execution_count": 12,
     "metadata": {},
     "output_type": "execute_result"
    }
   ],
   "source": [
    "to_keep"
   ]
  },
  {
   "cell_type": "markdown",
   "metadata": {},
   "source": [
    "## Points Visualization"
   ]
  },
  {
   "cell_type": "code",
   "execution_count": 13,
   "metadata": {},
   "outputs": [],
   "source": [
    "from grid_random_sampling import create_grid\n",
    "grid = create_grid(data, zmax, 1)"
   ]
  },
  {
   "cell_type": "code",
   "execution_count": 14,
   "metadata": {},
   "outputs": [
    {
     "data": {
      "image/png": "[encoded data removed]",
      "text/plain": [
       "<Figure size 864x864 with 1 Axes>"
      ]
     },
     "metadata": {
      "needs_background": "light"
     },
     "output_type": "display_data"
    }
   ],
   "source": [
    "fig = plt.figure()\n",
    "\n",
    "plt.imshow(grid, cmap='Greys', origin='lower')\n",
    "\n",
    "nmin = np.min(data[:, 0])\n",
    "emin = np.min(data[:, 1])\n",
    "\n",
    "# draw points\n",
    "all_pts = np.array(to_keep)\n",
    "north_vals = all_pts[:,0]\n",
    "east_vals = all_pts[:,1]\n",
    "plt.scatter(east_vals - emin, north_vals - nmin, c='red')\n",
    "\n",
    "plt.ylabel('NORTH')\n",
    "plt.xlabel('EAST')\n",
    "\n",
    "plt.show()"
   ]
  },
  {
   "cell_type": "markdown",
   "metadata": {},
   "source": [
    "[Solution](/notebooks/Random-Sampling-Solution.ipynb)"
   ]
  },
  {
   "cell_type": "markdown",
   "metadata": {},
   "source": [
    "## Epilogue\n",
    "\n",
    "You may have noticed removing points can be quite lengthy. In the implementation provided here we're naively checking to see if the point collides with each polygon when in reality it can only collide with one, the one that's closest to the point. The question then becomes \n",
    "\n",
    "\"How do we efficiently find the closest polygon to the point?\"\n",
    "\n",
    "One such approach is to use a *[k-d tree](https://en.wikipedia.org/wiki/K-d_tree)*, a space-partitioning data structure which allows search queries in $O(log(n))$. The *k-d tree* achieves this by cutting the search space in half on each step of a query.\n",
    "\n",
    "This would bring the total algorithm time down to $O(m * log(n))$ from $O(m*n)$.\n",
    "\n",
    "The scikit-learn library has an efficient implementation [readily available](http://scikit-learn.org/stable/modules/generated/sklearn.neighbors.KDTree.html#sklearn.neighbors.KDTree)."
   ]
  },
  {
   "cell_type": "code",
   "execution_count": null,
   "metadata": {},
   "outputs": [],
   "source": []
  },
  {
   "cell_type": "code",
   "execution_count": null,
   "metadata": {},
   "outputs": [],
   "source": []
  }
 ],
 "metadata": {
  "kernelspec": {
   "display_name": "Python 3",
   "language": "python",
   "name": "python3"
  },
  "language_info": {
   "codemirror_mode": {
    "name": "ipython",
    "version": 3
   },
   "file_extension": ".py",
   "mimetype": "text/x-python",
   "name": "python",
   "nbconvert_exporter": "python",
   "pygments_lexer": "ipython3",
   "version": "3.7.6"
  }
 },
 "nbformat": 4,
 "nbformat_minor": 2
}
