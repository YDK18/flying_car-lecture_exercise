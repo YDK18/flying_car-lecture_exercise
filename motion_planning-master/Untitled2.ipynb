{
 "cells": [
  {
   "cell_type": "code",
   "execution_count": 1,
   "metadata": {},
   "outputs": [],
   "source": [
    "import matplotlib.pyplot as plt\n",
    "from mpl_toolkits.mplot3d import Axes3D\n",
    "import networkx as nx\n",
    "import numpy as np\n",
    "import pkg_resources\n",
    "from sampling import Sampler\n",
    "import time\n",
    "\n",
    "from receding_utils import create_grid_and_edges, a_star_graph, distance, create_voxsubmap\n",
    "#from grid import create_grid\n",
    "#from planning3D import a_star\n",
    "#from planning_utils import heuristic, prune_path\n",
    "#from planning_utils import a_star_graph, distance\n",
    "#from voxmap import create_voxsubmap"
   ]
  },
  {
   "cell_type": "code",
   "execution_count": 2,
   "metadata": {},
   "outputs": [],
   "source": [
    "plt.rcParams['figure.figsize'] = 6,6\n",
    "\n",
    "filename = 'colliders-short.csv'\n",
    "data = np.loadtxt(filename, delimiter=',', dtype='Float64', skiprows=3)\n",
    "\n",
    "\n",
    "drone_altitude = 5\n",
    "#start_ne = (25,  100, drone_altitude) #NEU\n",
    "start_ne = (25,  100) #NEU\n",
    "#goal_ne = (750, 370, drone_altitude)\n",
    "goal_ne = (750, 370)\n",
    "close_goal_pt = (0,0, drone_altitude)\n",
    "close_start_dist= 9999\n",
    "close_goal_dist = 9999"
   ]
  },
  {
   "cell_type": "code",
   "execution_count": 3,
   "metadata": {},
   "outputs": [
    {
     "name": "stdout",
     "output_type": "stream",
     "text": [
      "462\n"
     ]
    }
   ],
   "source": [
    "# This is now the routine using Voronoi\n",
    "grid, edges = create_grid_and_edges(data, drone_altitude) # Voronoi fix altitude\n",
    "print(len(edges))"
   ]
  },
  {
   "cell_type": "code",
   "execution_count": 4,
   "metadata": {},
   "outputs": [],
   "source": [
    "# equivalent to\n",
    "# plt.imshow(np.flip(grid, 0))\n",
    "\n",
    "G = nx.Graph()"
   ]
  },
  {
   "cell_type": "code",
   "execution_count": 5,
   "metadata": {},
   "outputs": [],
   "source": [
    "def heuristic(n1, n2):\n",
    "    # TODO: define a heuristic\n",
    "    return distance(n1,n2)"
   ]
  },
  {
   "cell_type": "code",
   "execution_count": 6,
   "metadata": {},
   "outputs": [
    {
     "name": "stdout",
     "output_type": "stream",
     "text": [
      "graph digested 4.34375\n",
      "Found a path.\n",
      "A* graph found 4.375\n",
      "path length 64\n"
     ]
    },
    {
     "data": {
      "text/plain": [
       "Text(0, 0.5, 'NORTH')"
      ]
     },
     "execution_count": 6,
     "metadata": {},
     "output_type": "execute_result"
    },
    {
     "data": {
      "image/png": "[encoded data removed]",
      "text/plain": [
       "<Figure size 432x432 with 1 Axes>"
      ]
     },
     "metadata": {
      "needs_background": "light"
     },
     "output_type": "display_data"
    }
   ],
   "source": [
    "plt.imshow(grid, origin='lower', cmap='Greys')\n",
    "\n",
    "import numpy.linalg as LA\n",
    "\n",
    "for e in edges:\n",
    "    p1 = (int(e[0][0]), int(e[0][1]))\n",
    "    p2 = (int(e[1][0]), int(e[1][1]))\n",
    "    dist = distance(p2, p1)\n",
    "    G.add_edge(p1,p2,weight=dist)\n",
    "    plt.plot([p1[1], p2[1]], [p1[0], p2[0]], 'b-')\n",
    "\n",
    "    dist_s  = distance(start_ne, p1)\n",
    "    if dist_s < close_start_dist :\n",
    "        close_start_dist = dist_s\n",
    "        close_start_pt = p1\n",
    "\n",
    "    dist_g  = distance(goal_ne, p1)\n",
    "    if dist_g < close_goal_dist :\n",
    "        close_goal_dist = dist_g\n",
    "        close_goal_pt = p1\n",
    "        \n",
    "# time.clock은 python 3.3 이후 더이상 사용되지 않는다. 대신 time.perf_counter 또는 time.process_time 사용\n",
    "print(\"graph digested\", time.process_time())\n",
    "path = a_star_graph(G, heuristic, close_start_pt, close_goal_pt)\n",
    "print(\"A* graph found\", time.process_time())\n",
    "#    shortestpath = nx.dijkstra_path(G, close_start_pt, close_goal_pt, 'weight')\n",
    "#    print(\"dijkstra graph found\", time.clock())\n",
    "\n",
    "\n",
    "plt.plot(start_ne[1], start_ne[0], 'rx')\n",
    "plt.plot(goal_ne[1], goal_ne[0], 'rx')\n",
    "\n",
    "plt.plot(close_start_pt[1], close_start_pt[0], 'yo')\n",
    "plt.plot(close_goal_pt[1], close_goal_pt[0], 'yo')\n",
    "\n",
    "# plot dijkstra path in cyan\n",
    "#    for pt in shortestpath:\n",
    "#        plt.plot(pt[1], pt[0], 'g^')\n",
    "\n",
    "# plot path in yellow\n",
    "for p in range(0, len(path[0]) - 1):\n",
    "    pt = path[0][p].next_node()\n",
    "    plt.plot(pt[1], pt[0], 'yo')\n",
    "\n",
    "print(\"path length\", len(path[0]))\n",
    "\n",
    "plt.xlabel('EAST')\n",
    "plt.ylabel('NORTH')"
   ]
  },
  {
   "cell_type": "code",
   "execution_count": 7,
   "metadata": {},
   "outputs": [
    {
     "name": "stdout",
     "output_type": "stream",
     "text": [
      "start {1} and next {2} (20, 92) (20, 92)\n"
     ]
    }
   ],
   "source": [
    "#--voxel code below\n",
    "# close_start_pt\n",
    "\n",
    "flight_altitude = 3\n",
    "safety_distance = 3\n",
    "myVoxelSize = 5\n",
    "\n",
    "print (\"start {1} and next {2}\", close_start_pt, close_start_pt)"
   ]
  },
  {
   "cell_type": "code",
   "execution_count": 8,
   "metadata": {},
   "outputs": [],
   "source": [
    "# path is the global graph solution that will lead us close to the goal\n",
    "\n",
    "#   create a voxel map centered on current drone position (path and index)\n",
    "#   identify point on graph closest to the goal within the voxel space and A* to that point\n",
    "\n",
    "curr_position = close_start_pt\n",
    "voxsubdim = (20, 20, 10)  # half dimension north, east, up\n",
    "myVoxelSize = 5"
   ]
  },
  {
   "cell_type": "code",
   "execution_count": null,
   "metadata": {},
   "outputs": [],
   "source": [
    "while curr_position != close_goal_pt :\n",
    "    voxsubmap, next_position = create_voxsubmap(data, G, path, curr_position, voxsubdim)\n",
    "#    sub_path, _ = a_star(voxsubmap, heuristic, curr_position, next_position)\n",
    "#    pruned_path = prune_path(sub_path)\n",
    "#    print(len(pruned_path))\n",
    "\n",
    "\n",
    "print(\"Final voxmap after reaching goal\")\n",
    "fig2 = plt.figure()\n",
    "ax = fig2.gca(projection='3d')\n",
    "ax.voxels(voxsubmap, edgecolor='k')\n",
    "ax.set_xlim(voxsubmap.shape[0], 0)\n",
    "ax.set_ylim(0, voxsubmap.shape[1])\n",
    "# add 100 to the height so the buildings aren't so tall\n",
    "ax.set_zlim(0, voxsubmap.shape[2])\n",
    "\n",
    "for p in pruned_path :\n",
    "    ax.scatter(p[1], p[0], p[2], 'yo')\n",
    "\n",
    "plt.show()"
   ]
  }
 ],
 "metadata": {
  "kernelspec": {
   "display_name": "Python 3",
   "language": "python",
   "name": "python3"
  },
  "language_info": {
   "codemirror_mode": {
    "name": "ipython",
    "version": 3
   },
   "file_extension": ".py",
   "mimetype": "text/x-python",
   "name": "python",
   "nbconvert_exporter": "python",
   "pygments_lexer": "ipython3",
   "version": "3.7.6"
  }
 },
 "nbformat": 4,
 "nbformat_minor": 4
}
